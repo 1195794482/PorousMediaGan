{
 "cells": [
  {
   "cell_type": "code",
   "execution_count": 16,
   "metadata": {
    "collapsed": false
   },
   "outputs": [],
   "source": [
    "import numpy as np\n",
    "import tifffile\n",
    "from utilities import two_point_correlation\n",
    "import pandas as pd\n",
    "from tqdm import tnrange"
   ]
  },
  {
   "cell_type": "markdown",
   "metadata": {},
   "source": [
    "## File Directories\n",
    "\n",
    "We specify here the file directories and endings for each of the images.  \n",
    "This allows all computations to be made within one notebook and reduces number of necessary notebooks."
   ]
  },
  {
   "cell_type": "code",
   "execution_count": 17,
   "metadata": {
    "collapsed": false
   },
   "outputs": [],
   "source": [
    "#strings to output and input locations\n",
    "beadpack_dic = {\n",
    "    \"orig_input\": \"../../../data/beadpack/original/tiff/beadpack.tif\",\n",
    "    \"synthetic_input\": \"../../../data/beadpack/sampled/postprocessed/dcgan_200_epoch_210/\",\n",
    "    \"synthetic_ending\": \".tiff\",\n",
    "    \"out_direc\": \"../../../analysis/covariance/beadpack/\",\n",
    "    \"seed_min\": 43,\n",
    "    \"seed_max\": 64\n",
    "}\n",
    "\n",
    "berea_dic = {\n",
    "    \"orig_input\": \"../../../data/berea/original/raw/berea.tif\",\n",
    "    \"synthetic_input\": \"../../../data/berea/sampled/postprocessed/tiff/dcgan_200/\",\n",
    "    \"synthetic_ending\": \"_crop.tiff\",\n",
    "    \"out_direc\": \"../../../analysis/covariance/berea/\",\n",
    "    \"seed_min\": 43,\n",
    "    \"seed_max\": 64\n",
    "}\n",
    "\n",
    "ketton_dic = {\n",
    "    \"orig_input\": \"../../../data/ketton/original/raw/ketton.tif\",\n",
    "    \"synthetic_input\": \"../../../data/ketton/sampled/postprocessed/tiff/200/\",\n",
    "    \"synthetic_ending\": \".tiff\",\n",
    "    \"out_direc\": \"../../../analysis/covariance/ketton/\",\n",
    "    \"seed_min\": 43,\n",
    "    \"seed_max\": 64\n",
    "}"
   ]
  },
  {
   "cell_type": "code",
   "execution_count": 18,
   "metadata": {
    "collapsed": true
   },
   "outputs": [],
   "source": [
    "data_dic = beadpack_dic\n",
    "orig_img = tifffile.imread(data_dic[\"orig_input\"])\n",
    "out_direc = data_dic[\"out_direc\"]\n",
    "synthetic_input = data_dic[\"synthetic_input\"]\n",
    "synthetic_ending = data_dic[\"synthetic_ending\"]\n",
    "seed_min, seed_max = data_dic[\"seed_min\"], data_dic[\"seed_max\"]"
   ]
  },
  {
   "cell_type": "markdown",
   "metadata": {},
   "source": [
    "## Data Loading\n",
    "\n",
    "We load the dataset of the original segmented training image and get the largest and smallest value in the dataset.  \n",
    "This is necessary due to different images may be [0-1] or [0-255] segmented.  \n",
    "Therefore we make this check before hand to compute for the correct phase."
   ]
  },
  {
   "cell_type": "code",
   "execution_count": 19,
   "metadata": {
    "collapsed": false
   },
   "outputs": [
    {
     "name": "stdout",
     "output_type": "stream",
     "text": [
      "Pore Phase Value:  0\n",
      "Grain Phase Value:  255\n"
     ]
    }
   ],
   "source": [
    "pore_phase = orig_img.min()\n",
    "grain_phase = orig_img.max()\n",
    "print \"Pore Phase Value: \", pore_phase\n",
    "print \"Grain Phase Value: \", grain_phase"
   ]
  },
  {
   "cell_type": "markdown",
   "metadata": {},
   "source": [
    "## Covariance Computation - Pore Phase\n",
    "\n",
    "We make use of a helper function in utilities.py to compute the covariance in each cartesian direction.  \n",
    "The resulting dataset is a cube of the average counts at each distance $r$ for each value in the plane of computation."
   ]
  },
  {
   "cell_type": "code",
   "execution_count": 20,
   "metadata": {
    "collapsed": false
   },
   "outputs": [],
   "source": [
    "two_point_covariance_pore_phase_orig = {}\n",
    "for i, direc in enumerate([\"x\", \"y\", \"z\"]):\n",
    "    two_point_direc = two_point_correlation(orig_img, i, var=pore_phase)\n",
    "    two_point_covariance_pore_phase_orig[direc] = two_point_direc"
   ]
  },
  {
   "cell_type": "markdown",
   "metadata": {},
   "source": [
    "We now average in the first two dimensions e.g. covariance in x-direction, average across y, z directions  \n",
    "to obtain the directional covariance. Perform this for all three directions."
   ]
  },
  {
   "cell_type": "code",
   "execution_count": 21,
   "metadata": {
    "collapsed": false
   },
   "outputs": [
    {
     "name": "stdout",
     "output_type": "stream",
     "text": [
      "(500L,)\n"
     ]
    }
   ],
   "source": [
    "direc_covariances_pore_phase_orig = {}\n",
    "for direc in [\"x\", \"y\", \"z\"]:\n",
    "    direc_covariances_pore_phase_orig[direc] = np.mean(np.mean(two_point_covariance_pore_phase_orig[direc], axis=0), axis=0)\n",
    "print direc_covariances_pore_phase_orig[\"x\"].shape"
   ]
  },
  {
   "cell_type": "markdown",
   "metadata": {},
   "source": [
    "We store the computed covariance in a csv file for later plotting and computation purposes.  \n",
    "We also perform a sanity check: the covariance at the origin should equal the porosity of the image for the pore phase,\n",
    "and 1-porosity for the grain phase."
   ]
  },
  {
   "cell_type": "code",
   "execution_count": 22,
   "metadata": {
    "collapsed": false
   },
   "outputs": [
    {
     "data": {
      "text/html": [
       "<div>\n",
       "<table border=\"1\" class=\"dataframe\">\n",
       "  <thead>\n",
       "    <tr style=\"text-align: right;\">\n",
       "      <th></th>\n",
       "      <th>x</th>\n",
       "      <th>y</th>\n",
       "      <th>z</th>\n",
       "    </tr>\n",
       "  </thead>\n",
       "  <tbody>\n",
       "    <tr>\n",
       "      <th>0</th>\n",
       "      <td>0.362553</td>\n",
       "      <td>0.362553</td>\n",
       "      <td>0.362553</td>\n",
       "    </tr>\n",
       "    <tr>\n",
       "      <th>1</th>\n",
       "      <td>0.343824</td>\n",
       "      <td>0.343777</td>\n",
       "      <td>0.343735</td>\n",
       "    </tr>\n",
       "    <tr>\n",
       "      <th>2</th>\n",
       "      <td>0.325921</td>\n",
       "      <td>0.325782</td>\n",
       "      <td>0.325699</td>\n",
       "    </tr>\n",
       "    <tr>\n",
       "      <th>3</th>\n",
       "      <td>0.308894</td>\n",
       "      <td>0.308630</td>\n",
       "      <td>0.308507</td>\n",
       "    </tr>\n",
       "    <tr>\n",
       "      <th>4</th>\n",
       "      <td>0.292755</td>\n",
       "      <td>0.292340</td>\n",
       "      <td>0.292188</td>\n",
       "    </tr>\n",
       "  </tbody>\n",
       "</table>\n",
       "</div>"
      ],
      "text/plain": [
       "          x         y         z\n",
       "0  0.362553  0.362553  0.362553\n",
       "1  0.343824  0.343777  0.343735\n",
       "2  0.325921  0.325782  0.325699\n",
       "3  0.308894  0.308630  0.308507\n",
       "4  0.292755  0.292340  0.292188"
      ]
     },
     "execution_count": 22,
     "metadata": {},
     "output_type": "execute_result"
    }
   ],
   "source": [
    "covariance_orig_df = pd.DataFrame(direc_covariances_pore_phase_orig)\n",
    "covariance_orig_df.to_csv(out_direc+\"orig_pph.csv\", delim=\",\", index=False)\n",
    "\n",
    "covariances_orig_df_backload = pd.read_csv(out_direc+\"orig_pph.csv\")\n",
    "covariances_orig_df_backload.head()"
   ]
  },
  {
   "cell_type": "markdown",
   "metadata": {},
   "source": [
    "Due to the large size of these arrays we delete them manually before continuing to free up memory."
   ]
  },
  {
   "cell_type": "code",
   "execution_count": 23,
   "metadata": {
    "collapsed": true
   },
   "outputs": [],
   "source": [
    "del two_point_covariance_pore_phase_orig\n",
    "del two_point_direc"
   ]
  },
  {
   "cell_type": "markdown",
   "metadata": {},
   "source": [
    "## Covariance Computation - Grain Phase\n",
    "\n",
    "We perform the same computation as above, but exchange for the grain phase value of the image."
   ]
  },
  {
   "cell_type": "code",
   "execution_count": 24,
   "metadata": {
    "collapsed": true
   },
   "outputs": [],
   "source": [
    "two_point_covariance_grain_phase_orig = {}\n",
    "for i, direc in enumerate([\"x\", \"y\", \"z\"]):\n",
    "    two_point_direc = two_point_correlation(orig_img, i, var=grain_phase)\n",
    "    two_point_covariance_grain_phase_orig[direc] = two_point_direc"
   ]
  },
  {
   "cell_type": "code",
   "execution_count": 25,
   "metadata": {
    "collapsed": false
   },
   "outputs": [
    {
     "name": "stdout",
     "output_type": "stream",
     "text": [
      "(500L,)\n"
     ]
    }
   ],
   "source": [
    "direc_covariances_grain_phase_orig = {}\n",
    "for direc in [\"x\", \"y\", \"z\"]:\n",
    "    direc_covariances_grain_phase_orig[direc] = np.mean(np.mean(two_point_covariance_grain_phase_orig[direc], axis=0), axis=0)\n",
    "print direc_covariances_grain_phase_orig[\"x\"].shape"
   ]
  },
  {
   "cell_type": "code",
   "execution_count": 26,
   "metadata": {
    "collapsed": false
   },
   "outputs": [
    {
     "data": {
      "text/html": [
       "<div>\n",
       "<table border=\"1\" class=\"dataframe\">\n",
       "  <thead>\n",
       "    <tr style=\"text-align: right;\">\n",
       "      <th></th>\n",
       "      <th>x</th>\n",
       "      <th>y</th>\n",
       "      <th>z</th>\n",
       "    </tr>\n",
       "  </thead>\n",
       "  <tbody>\n",
       "    <tr>\n",
       "      <th>0</th>\n",
       "      <td>0.637447</td>\n",
       "      <td>0.637447</td>\n",
       "      <td>0.637447</td>\n",
       "    </tr>\n",
       "    <tr>\n",
       "      <th>1</th>\n",
       "      <td>0.618710</td>\n",
       "      <td>0.618742</td>\n",
       "      <td>0.618698</td>\n",
       "    </tr>\n",
       "    <tr>\n",
       "      <th>2</th>\n",
       "      <td>0.600792</td>\n",
       "      <td>0.600810</td>\n",
       "      <td>0.600729</td>\n",
       "    </tr>\n",
       "    <tr>\n",
       "      <th>3</th>\n",
       "      <td>0.583743</td>\n",
       "      <td>0.583716</td>\n",
       "      <td>0.583605</td>\n",
       "    </tr>\n",
       "    <tr>\n",
       "      <th>4</th>\n",
       "      <td>0.567575</td>\n",
       "      <td>0.567481</td>\n",
       "      <td>0.567351</td>\n",
       "    </tr>\n",
       "  </tbody>\n",
       "</table>\n",
       "</div>"
      ],
      "text/plain": [
       "          x         y         z\n",
       "0  0.637447  0.637447  0.637447\n",
       "1  0.618710  0.618742  0.618698\n",
       "2  0.600792  0.600810  0.600729\n",
       "3  0.583743  0.583716  0.583605\n",
       "4  0.567575  0.567481  0.567351"
      ]
     },
     "execution_count": 26,
     "metadata": {},
     "output_type": "execute_result"
    }
   ],
   "source": [
    "covariance_orig_df = pd.DataFrame(direc_covariances_grain_phase_orig)\n",
    "covariance_orig_df.to_csv(out_direc+\"orig_gph.csv\", delim=\",\", index=False)\n",
    "\n",
    "covariances_orig_df_backload = pd.read_csv(out_direc+\"orig_gph.csv\")\n",
    "covariances_orig_df_backload.head()"
   ]
  },
  {
   "cell_type": "markdown",
   "metadata": {},
   "source": [
    "The covariance at the origin should be equal for all three directions and be equal to 1-porosity."
   ]
  },
  {
   "cell_type": "code",
   "execution_count": 27,
   "metadata": {
    "collapsed": true
   },
   "outputs": [],
   "source": [
    "del two_point_covariance_grain_phase_orig\n",
    "del two_point_direc"
   ]
  },
  {
   "cell_type": "markdown",
   "metadata": {},
   "source": [
    "## Covariance Computation - Synthetic Samples - Pore Phase\n",
    "\n",
    "We now perform above computation for the pore phase of the synthetic samples and store the results in csv files."
   ]
  },
  {
   "cell_type": "code",
   "execution_count": 28,
   "metadata": {
    "collapsed": false
   },
   "outputs": [
    {
     "name": "stdout",
     "output_type": "stream",
     "text": [
      "\n"
     ]
    },
    {
     "ename": "IOError",
     "evalue": "[Errno 2] No such file or directory: 'E:\\\\PhD_Thesis\\\\pmgan\\\\repo\\\\PorousMediaGAN\\\\data\\\\beadpack\\\\sampled\\\\postprocessed\\\\dcgan_200_epoch_210\\\\43.tiff'",
     "output_type": "error",
     "traceback": [
      "\u001b[0;31m---------------------------------------------------------------------------\u001b[0m",
      "\u001b[0;31mIOError\u001b[0m                                   Traceback (most recent call last)",
      "\u001b[0;32m<ipython-input-28-5b72d2021ddb>\u001b[0m in \u001b[0;36m<module>\u001b[0;34m()\u001b[0m\n\u001b[1;32m      1\u001b[0m \u001b[1;32mfor\u001b[0m \u001b[0mseed\u001b[0m \u001b[1;32min\u001b[0m \u001b[0mtnrange\u001b[0m\u001b[1;33m(\u001b[0m\u001b[0mseed_min\u001b[0m\u001b[1;33m,\u001b[0m \u001b[0mseed_max\u001b[0m\u001b[1;33m)\u001b[0m\u001b[1;33m:\u001b[0m\u001b[1;33m\u001b[0m\u001b[0m\n\u001b[0;32m----> 2\u001b[0;31m     \u001b[0mim_in\u001b[0m \u001b[1;33m=\u001b[0m \u001b[0mtifffile\u001b[0m\u001b[1;33m.\u001b[0m\u001b[0mimread\u001b[0m\u001b[1;33m(\u001b[0m\u001b[0msynthetic_input\u001b[0m\u001b[1;33m+\u001b[0m\u001b[0mstr\u001b[0m\u001b[1;33m(\u001b[0m\u001b[0mseed\u001b[0m\u001b[1;33m)\u001b[0m\u001b[1;33m+\u001b[0m\u001b[0msynthetic_ending\u001b[0m\u001b[1;33m)\u001b[0m\u001b[1;33m\u001b[0m\u001b[0m\n\u001b[0m\u001b[1;32m      3\u001b[0m     \u001b[0mimage\u001b[0m \u001b[1;33m=\u001b[0m \u001b[0mim_in\u001b[0m\u001b[1;33m.\u001b[0m\u001b[0mastype\u001b[0m\u001b[1;33m(\u001b[0m\u001b[0mnp\u001b[0m\u001b[1;33m.\u001b[0m\u001b[0mint8\u001b[0m\u001b[1;33m)\u001b[0m\u001b[1;33m\u001b[0m\u001b[0m\n\u001b[1;32m      4\u001b[0m \u001b[1;33m\u001b[0m\u001b[0m\n\u001b[1;32m      5\u001b[0m     \u001b[1;31m#determine phase values\u001b[0m\u001b[1;33m\u001b[0m\u001b[1;33m\u001b[0m\u001b[0m\n",
      "\u001b[0;32mC:\\Users\\lmosser\\Anaconda2\\lib\\site-packages\\tifffile\\tifffile.pyc\u001b[0m in \u001b[0;36mimread\u001b[0;34m(files, **kwargs)\u001b[0m\n\u001b[1;32m   1158\u001b[0m \u001b[1;33m\u001b[0m\u001b[0m\n\u001b[1;32m   1159\u001b[0m     \u001b[1;32mif\u001b[0m \u001b[0misinstance\u001b[0m\u001b[1;33m(\u001b[0m\u001b[0mfiles\u001b[0m\u001b[1;33m,\u001b[0m \u001b[0mbasestring\u001b[0m\u001b[1;33m)\u001b[0m \u001b[1;32mor\u001b[0m \u001b[0mhasattr\u001b[0m\u001b[1;33m(\u001b[0m\u001b[0mfiles\u001b[0m\u001b[1;33m,\u001b[0m \u001b[1;34m'seek'\u001b[0m\u001b[1;33m)\u001b[0m\u001b[1;33m:\u001b[0m\u001b[1;33m\u001b[0m\u001b[0m\n\u001b[0;32m-> 1160\u001b[0;31m         \u001b[1;32mwith\u001b[0m \u001b[0mTiffFile\u001b[0m\u001b[1;33m(\u001b[0m\u001b[0mfiles\u001b[0m\u001b[1;33m,\u001b[0m \u001b[1;33m**\u001b[0m\u001b[0mkwargs_file\u001b[0m\u001b[1;33m)\u001b[0m \u001b[1;32mas\u001b[0m \u001b[0mtif\u001b[0m\u001b[1;33m:\u001b[0m\u001b[1;33m\u001b[0m\u001b[0m\n\u001b[0m\u001b[1;32m   1161\u001b[0m             \u001b[1;32mreturn\u001b[0m \u001b[0mtif\u001b[0m\u001b[1;33m.\u001b[0m\u001b[0masarray\u001b[0m\u001b[1;33m(\u001b[0m\u001b[1;33m**\u001b[0m\u001b[0mkwargs\u001b[0m\u001b[1;33m)\u001b[0m\u001b[1;33m\u001b[0m\u001b[0m\n\u001b[1;32m   1162\u001b[0m     \u001b[1;32melse\u001b[0m\u001b[1;33m:\u001b[0m\u001b[1;33m\u001b[0m\u001b[0m\n",
      "\u001b[0;32mC:\\Users\\lmosser\\Anaconda2\\lib\\site-packages\\tifffile\\tifffile.pyc\u001b[0m in \u001b[0;36m__init__\u001b[0;34m(self, arg, name, offset, size, multifile, multifile_close, maxpages, fastij)\u001b[0m\n\u001b[1;32m   1241\u001b[0m         \"\"\"\n\u001b[1;32m   1242\u001b[0m         self._fh = FileHandle(arg, mode='rb',\n\u001b[0;32m-> 1243\u001b[0;31m                               name=name, offset=offset, size=size)\n\u001b[0m\u001b[1;32m   1244\u001b[0m         \u001b[0mself\u001b[0m\u001b[1;33m.\u001b[0m\u001b[0moffset_size\u001b[0m \u001b[1;33m=\u001b[0m \u001b[0mNone\u001b[0m\u001b[1;33m\u001b[0m\u001b[0m\n\u001b[1;32m   1245\u001b[0m         \u001b[0mself\u001b[0m\u001b[1;33m.\u001b[0m\u001b[0mpages\u001b[0m \u001b[1;33m=\u001b[0m \u001b[1;33m[\u001b[0m\u001b[1;33m]\u001b[0m\u001b[1;33m\u001b[0m\u001b[0m\n",
      "\u001b[0;32mC:\\Users\\lmosser\\Anaconda2\\lib\\site-packages\\tifffile\\tifffile.pyc\u001b[0m in \u001b[0;36m__init__\u001b[0;34m(self, file, mode, name, offset, size)\u001b[0m\n\u001b[1;32m   3309\u001b[0m         \u001b[0mself\u001b[0m\u001b[1;33m.\u001b[0m\u001b[0m_close\u001b[0m \u001b[1;33m=\u001b[0m \u001b[0mTrue\u001b[0m\u001b[1;33m\u001b[0m\u001b[0m\n\u001b[1;32m   3310\u001b[0m         \u001b[0mself\u001b[0m\u001b[1;33m.\u001b[0m\u001b[0mis_file\u001b[0m \u001b[1;33m=\u001b[0m \u001b[0mFalse\u001b[0m\u001b[1;33m\u001b[0m\u001b[0m\n\u001b[0;32m-> 3311\u001b[0;31m         \u001b[0mself\u001b[0m\u001b[1;33m.\u001b[0m\u001b[0mopen\u001b[0m\u001b[1;33m(\u001b[0m\u001b[1;33m)\u001b[0m\u001b[1;33m\u001b[0m\u001b[0m\n\u001b[0m\u001b[1;32m   3312\u001b[0m \u001b[1;33m\u001b[0m\u001b[0m\n\u001b[1;32m   3313\u001b[0m     \u001b[1;32mdef\u001b[0m \u001b[0mopen\u001b[0m\u001b[1;33m(\u001b[0m\u001b[0mself\u001b[0m\u001b[1;33m)\u001b[0m\u001b[1;33m:\u001b[0m\u001b[1;33m\u001b[0m\u001b[0m\n",
      "\u001b[0;32mC:\\Users\\lmosser\\Anaconda2\\lib\\site-packages\\tifffile\\tifffile.pyc\u001b[0m in \u001b[0;36mopen\u001b[0;34m(self)\u001b[0m\n\u001b[1;32m   3320\u001b[0m             \u001b[0mself\u001b[0m\u001b[1;33m.\u001b[0m\u001b[0m_file\u001b[0m \u001b[1;33m=\u001b[0m \u001b[0mos\u001b[0m\u001b[1;33m.\u001b[0m\u001b[0mpath\u001b[0m\u001b[1;33m.\u001b[0m\u001b[0mabspath\u001b[0m\u001b[1;33m(\u001b[0m\u001b[0mself\u001b[0m\u001b[1;33m.\u001b[0m\u001b[0m_file\u001b[0m\u001b[1;33m)\u001b[0m\u001b[1;33m\u001b[0m\u001b[0m\n\u001b[1;32m   3321\u001b[0m             \u001b[0mself\u001b[0m\u001b[1;33m.\u001b[0m\u001b[0m_dir\u001b[0m\u001b[1;33m,\u001b[0m \u001b[0mself\u001b[0m\u001b[1;33m.\u001b[0m\u001b[0m_name\u001b[0m \u001b[1;33m=\u001b[0m \u001b[0mos\u001b[0m\u001b[1;33m.\u001b[0m\u001b[0mpath\u001b[0m\u001b[1;33m.\u001b[0m\u001b[0msplit\u001b[0m\u001b[1;33m(\u001b[0m\u001b[0mself\u001b[0m\u001b[1;33m.\u001b[0m\u001b[0m_file\u001b[0m\u001b[1;33m)\u001b[0m\u001b[1;33m\u001b[0m\u001b[0m\n\u001b[0;32m-> 3322\u001b[0;31m             \u001b[0mself\u001b[0m\u001b[1;33m.\u001b[0m\u001b[0m_fh\u001b[0m \u001b[1;33m=\u001b[0m \u001b[0mopen\u001b[0m\u001b[1;33m(\u001b[0m\u001b[0mself\u001b[0m\u001b[1;33m.\u001b[0m\u001b[0m_file\u001b[0m\u001b[1;33m,\u001b[0m \u001b[0mself\u001b[0m\u001b[1;33m.\u001b[0m\u001b[0m_mode\u001b[0m\u001b[1;33m)\u001b[0m\u001b[1;33m\u001b[0m\u001b[0m\n\u001b[0m\u001b[1;32m   3323\u001b[0m             \u001b[0mself\u001b[0m\u001b[1;33m.\u001b[0m\u001b[0m_close\u001b[0m \u001b[1;33m=\u001b[0m \u001b[0mTrue\u001b[0m\u001b[1;33m\u001b[0m\u001b[0m\n\u001b[1;32m   3324\u001b[0m             \u001b[1;32mif\u001b[0m \u001b[0mself\u001b[0m\u001b[1;33m.\u001b[0m\u001b[0m_offset\u001b[0m \u001b[1;32mis\u001b[0m \u001b[0mNone\u001b[0m\u001b[1;33m:\u001b[0m\u001b[1;33m\u001b[0m\u001b[0m\n",
      "\u001b[0;31mIOError\u001b[0m: [Errno 2] No such file or directory: 'E:\\\\PhD_Thesis\\\\pmgan\\\\repo\\\\PorousMediaGAN\\\\data\\\\beadpack\\\\sampled\\\\postprocessed\\\\dcgan_200_epoch_210\\\\43.tiff'"
     ]
    }
   ],
   "source": [
    "for seed in tnrange(seed_min, seed_max):\n",
    "    im_in = tifffile.imread(synthetic_input+str(seed)+synthetic_ending)\n",
    "    image = im_in.astype(np.int8)\n",
    "    \n",
    "    #determine phase values\n",
    "    pore_phase = image.min()\n",
    "    grain_phase = image.max()\n",
    "    \n",
    "    for phase, phase_label in zip([pore_phase, grain_phase], [\"pph\", \"gph\"]):\n",
    "        #phase computation\n",
    "        two_point_covariance = {}\n",
    "        for i, direc in enumerate([\"x\", \"y\", \"z\"]):\n",
    "            two_point_direc = two_point_correlation(image, i, var=phase)\n",
    "            two_point_covariance[direc] = two_point_direc\n",
    "\n",
    "        #phase averaging\n",
    "        direc_covariances = {}\n",
    "        for direc in [\"x\", \"y\", \"z\"]:\n",
    "            direc_covariances[direc] = np.mean(np.mean(two_point_covariance[direc], axis=0), axis=0)\n",
    "\n",
    "        #covariance storage\n",
    "        covariance_df = pd.DataFrame(direc_covariances)\n",
    "        covariance_df.to_csv(out_direc +\"S_\"+str(seed)+\"_\"+phase_label+\".csv\", delim=\",\", index=False)"
   ]
  },
  {
   "cell_type": "markdown",
   "metadata": {},
   "source": [
    "We probably may shutdown the notebook after this, but to be sure we delete these, because they may hog all of the RAM."
   ]
  },
  {
   "cell_type": "code",
   "execution_count": null,
   "metadata": {
    "collapsed": true
   },
   "outputs": [],
   "source": [
    "del im_in\n",
    "del image\n",
    "del two_point_covariance\n",
    "del direc_covariances\n",
    "del covariance_df"
   ]
  }
 ],
 "metadata": {
  "anaconda-cloud": {},
  "kernelspec": {
   "display_name": "Python 2",
   "language": "python",
   "name": "python2"
  },
  "language_info": {
   "codemirror_mode": {
    "name": "ipython",
    "version": 2
   },
   "file_extension": ".py",
   "mimetype": "text/x-python",
   "name": "python",
   "nbconvert_exporter": "python",
   "pygments_lexer": "ipython2",
   "version": "2.7.11"
  }
 },
 "nbformat": 4,
 "nbformat_minor": 1
}
