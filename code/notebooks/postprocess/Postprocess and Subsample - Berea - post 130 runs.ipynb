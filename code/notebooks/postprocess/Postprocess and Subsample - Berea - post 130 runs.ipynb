{
 "cells": [
  {
   "cell_type": "code",
   "execution_count": 2,
   "metadata": {
    "collapsed": true
   },
   "outputs": [],
   "source": [
    "import numpy as np\n",
    "import h5py\n",
    "import tifffile\n",
    "from scipy.ndimage.filters import median_filter\n",
    "from skimage.filters import threshold_otsu\n",
    "np.random.seed(42)"
   ]
  },
  {
   "cell_type": "code",
   "execution_count": 6,
   "metadata": {
    "collapsed": false
   },
   "outputs": [],
   "source": [
    "import numpy as np\n",
    "import h5py\n",
    "import tifffile\n",
    "from scipy.ndimage.filters import median_filter\n",
    "from skimage.filters import threshold_otsu\n",
    "np.random.seed(42)\n",
    "for i in range(43, 64, 1):\n",
    "    f = h5py.File(\"../data/individual_images/berea/sampled/raw/hdf5/wgan_200/berea_generated_\"+str(i)+\".hdf5\", 'r')\n",
    "    my_array = f['data'][()]\n",
    "    tifffile.imsave(\"../data/individual_images/berea/sampled/raw/tiff/wgan_200/berea_generated_\"+str(i)+\".tiff\",  my_array[0, 0, :, :, :].astype(np.float32))"
   ]
  },
  {
   "cell_type": "code",
   "execution_count": 2,
   "metadata": {
    "collapsed": false
   },
   "outputs": [
    {
     "name": "stdout",
     "output_type": "stream",
     "text": [
      "(288L, 288L, 288L)\n",
      "(200L, 200L, 200L)\n",
      "(288L, 288L, 288L)\n",
      "(200L, 200L, 200L)\n",
      "(288L, 288L, 288L)\n",
      "(200L, 200L, 200L)\n",
      "(288L, 288L, 288L)\n",
      "(200L, 200L, 200L)\n",
      "(288L, 288L, 288L)\n",
      "(200L, 200L, 200L)\n",
      "(288L, 288L, 288L)\n",
      "(200L, 200L, 200L)\n",
      "(288L, 288L, 288L)\n",
      "(200L, 200L, 200L)\n",
      "(288L, 288L, 288L)\n",
      "(200L, 200L, 200L)\n",
      "(288L, 288L, 288L)\n",
      "(200L, 200L, 200L)\n",
      "(288L, 288L, 288L)\n",
      "(200L, 200L, 200L)\n",
      "(288L, 288L, 288L)\n",
      "(200L, 200L, 200L)\n",
      "(288L, 288L, 288L)\n",
      "(200L, 200L, 200L)\n",
      "(288L, 288L, 288L)\n",
      "(200L, 200L, 200L)\n",
      "(288L, 288L, 288L)\n",
      "(200L, 200L, 200L)\n",
      "(288L, 288L, 288L)\n",
      "(200L, 200L, 200L)\n",
      "(288L, 288L, 288L)\n",
      "(200L, 200L, 200L)\n",
      "(288L, 288L, 288L)\n",
      "(200L, 200L, 200L)\n",
      "(288L, 288L, 288L)\n",
      "(200L, 200L, 200L)\n",
      "(288L, 288L, 288L)\n",
      "(200L, 200L, 200L)\n",
      "(288L, 288L, 288L)\n",
      "(200L, 200L, 200L)\n",
      "(288L, 288L, 288L)\n",
      "(200L, 200L, 200L)\n"
     ]
    }
   ],
   "source": [
    "images = []\n",
    "for i in range(43, 64, 1):\n",
    "    im_in = tifffile.imread(\"../data/individual_images/berea/sampled/raw/tiff/wgan_200/berea_generated_\"+str(i)+\".tiff\")\n",
    "    print im_in.shape\n",
    "    im_in = median_filter(im_in, size=(3, 3, 3))\n",
    "    im_in = im_in[40:240, 40:240, 40:240]\n",
    "    print im_in.shape\n",
    "    im_in = im_in/255.\n",
    "    threshold_global_otsu = threshold_otsu(im_in)\n",
    "    segmented_image = (im_in >= threshold_global_otsu).astype(np.int32)\n",
    "    tifffile.imsave(\"../data/individual_images/berea/sampled/postprocessed/tiff/wgan_200/berea_generated_\"+str(i)+\".tiff\", segmented_image.astype(np.int32))"
   ]
  },
  {
   "cell_type": "code",
   "execution_count": 6,
   "metadata": {
    "collapsed": false
   },
   "outputs": [
    {
     "name": "stdout",
     "output_type": "stream",
     "text": [
      "(400L, 400L, 400L)\n",
      "(128L, 128L, 128L)\n",
      "(128L, 128L, 128L)\n",
      "(128L, 128L, 128L)\n",
      "(128L, 128L, 128L)\n",
      "(128L, 128L, 128L)\n",
      "(128L, 128L, 128L)\n",
      "(128L, 128L, 128L)\n",
      "(128L, 128L, 128L)\n",
      "(128L, 128L, 128L)\n",
      "(128L, 128L, 128L)\n",
      "(128L, 128L, 128L)\n",
      "(128L, 128L, 128L)\n",
      "(128L, 128L, 128L)\n",
      "(128L, 128L, 128L)\n",
      "(128L, 128L, 128L)\n",
      "(128L, 128L, 128L)\n",
      "(128L, 128L, 128L)\n",
      "(128L, 128L, 128L)\n",
      "(128L, 128L, 128L)\n",
      "(128L, 128L, 128L)\n",
      "(128L, 128L, 128L)\n",
      "(128L, 128L, 128L)\n",
      "(128L, 128L, 128L)\n",
      "(128L, 128L, 128L)\n",
      "(128L, 128L, 128L)\n",
      "(128L, 128L, 128L)\n",
      "(128L, 128L, 128L)\n"
     ]
    }
   ],
   "source": [
    "orig_img = tifffile.imread(\"../data/individual_images/berea/original/raw/berea.tif\")\n",
    "orig_img = orig_img/255.\n",
    "img = orig_img\n",
    "inc = 128\n",
    "print img.shape\n",
    "\n",
    "N, M, O = 128, 128, 128\n",
    "l = 0\n",
    "for i in range(0, img.shape[0], inc):\n",
    "    for j in range(0, img.shape[1], inc):\n",
    "        for k in range(0, img.shape[2], inc):\n",
    "            sub_image = img[i:i+N, j:j+M, k:k+O]\n",
    "            if sub_image.shape == (N, M, O):\n",
    "                print sub_image.shape\n",
    "                #sub_image = median_filter(sub_image, size=(3, 3, 3))\n",
    "                tifffile.imsave(\"../data/individual_images/berea/original/postprocessed/tiff/128/berea_sub_128_\"+str(l)+\".tiff\", sub_image.astype(np.int32))\n",
    "                l += 1"
   ]
  },
  {
   "cell_type": "code",
   "execution_count": 9,
   "metadata": {
    "collapsed": false
   },
   "outputs": [
    {
     "name": "stdout",
     "output_type": "stream",
     "text": [
      "['ketton_desp_64_43.tiff', 'ketton_desp_64_44.tiff', 'ketton_desp_64_45.tiff', 'ketton_desp_64_46.tiff', 'ketton_desp_64_47.tiff', 'ketton_desp_64_48.tiff', 'ketton_desp_64_49.tiff', 'ketton_desp_64_50.tiff', 'ketton_desp_64_51.tiff', 'ketton_desp_64_52.tiff', 'ketton_desp_64_53.tiff', 'ketton_desp_64_54.tiff', 'ketton_desp_64_55.tiff', 'ketton_desp_64_56.tiff', 'ketton_desp_64_57.tiff', 'ketton_desp_64_58.tiff', 'ketton_desp_64_59.tiff', 'ketton_desp_64_60.tiff', 'ketton_desp_64_61.tiff', 'ketton_desp_64_62.tiff', 'ketton_desp_64_63.tiff']\n"
     ]
    }
   ],
   "source": [
    "import os\n",
    "#direc = 'E:/PhD_Thesis/pmgan/PorousMediaGan/data/individual_images/ketton/original/postprocessed/128/raw/'\n",
    "direc = 'E:/PhD_Thesis/pmgan/PorousMediaGan/data/individual_images/ketton/sampled/postprocessed/raw_upscaling/200/'\n",
    "x = [f for f in os.listdir(direc)]\n",
    "print x"
   ]
  },
  {
   "cell_type": "code",
   "execution_count": 10,
   "metadata": {
    "collapsed": false
   },
   "outputs": [],
   "source": [
    "for f in x:\n",
    "    thisFile = direc+f\n",
    "    base = os.path.splitext(thisFile)[0]\n",
    "    os.rename(thisFile, base + \".raw\")"
   ]
  },
  {
   "cell_type": "code",
   "execution_count": 3,
   "metadata": {
    "collapsed": false
   },
   "outputs": [
    {
     "name": "stdout",
     "output_type": "stream",
     "text": [
      "Counter({1: 6383465, 0: 1616535})\n",
      "0.202066875\n",
      "Counter({1: 6338041, 0: 1661959})\n",
      "0.207744875\n",
      "Counter({1: 6314612, 0: 1685388})\n",
      "0.2106735\n",
      "Counter({1: 6333444, 0: 1666556})\n",
      "0.2083195\n",
      "Counter({1: 6385972, 0: 1614028})\n",
      "0.2017535\n",
      "Counter({1: 6363943, 0: 1636057})\n",
      "0.204507125\n",
      "Counter({1: 6330194, 0: 1669806})\n",
      "0.20872575\n",
      "Counter({1: 6353448, 0: 1646552})\n",
      "0.205819\n",
      "Counter({1: 6479474, 0: 1520526})\n",
      "0.19006575\n",
      "Counter({1: 6347560, 0: 1652440})\n",
      "0.206555\n",
      "Counter({1: 6402397, 0: 1597603})\n",
      "0.199700375\n",
      "Counter({1: 6353163, 0: 1646837})\n",
      "0.205854625\n",
      "Counter({1: 6320742, 0: 1679258})\n",
      "0.20990725\n",
      "Counter({1: 6449932, 0: 1550068})\n",
      "0.1937585\n",
      "Counter({1: 6274031, 0: 1725969})\n",
      "0.215746125\n",
      "Counter({1: 6238403, 0: 1761597})\n",
      "0.220199625\n",
      "Counter({1: 6292824, 0: 1707176})\n",
      "0.213397\n",
      "Counter({1: 6408605, 0: 1591395})\n",
      "0.198924375\n",
      "Counter({1: 6307912, 0: 1692088})\n",
      "0.211511\n",
      "Counter({1: 6372496, 0: 1627504})\n",
      "0.203438\n",
      "Counter({1: 6415597, 0: 1584403})\n",
      "0.198050375\n"
     ]
    }
   ],
   "source": [
    "from collections import Counter\n",
    "for i in range(43, 64, 1):\n",
    "    segmented_image = tifffile.imread(\"../data/individual_images/berea/sampled/postprocessed/tiff/wgan_200/berea_generated_\"+str(i)+\".tiff\")\n",
    "    porc = Counter(segmented_image.flatten())\n",
    "    print(porc)\n",
    "    por = porc[0]/float(porc[0]+porc[1])\n",
    "    print por"
   ]
  },
  {
   "cell_type": "code",
   "execution_count": 33,
   "metadata": {
    "collapsed": false
   },
   "outputs": [
    {
     "name": "stdout",
     "output_type": "stream",
     "text": [
      "0.228501125\n"
     ]
    }
   ],
   "source": []
  },
  {
   "cell_type": "code",
   "execution_count": 112,
   "metadata": {
    "collapsed": false
   },
   "outputs": [
    {
     "ename": "WindowsError",
     "evalue": "[Error 3] The system cannot find the path specified: 'E:/PhD_Thesis/pmgan/PorousMediaGan/data/individual_images/berea/original/raw/tiff/200/*.*'",
     "output_type": "error",
     "traceback": [
      "\u001b[0;31m---------------------------------------------------------------------------\u001b[0m",
      "\u001b[0;31mWindowsError\u001b[0m                              Traceback (most recent call last)",
      "\u001b[0;32m<ipython-input-112-3a5065747ad3>\u001b[0m in \u001b[0;36m<module>\u001b[0;34m()\u001b[0m\n\u001b[1;32m      2\u001b[0m \u001b[1;31m#direc = 'E:/PhD_Thesis/pmgan/PorousMediaGan/data/individual_images/ketton/original/postprocessed/128/raw/'\u001b[0m\u001b[1;33m\u001b[0m\u001b[1;33m\u001b[0m\u001b[0m\n\u001b[1;32m      3\u001b[0m \u001b[0mdirec\u001b[0m \u001b[1;33m=\u001b[0m \u001b[1;34m'E:/PhD_Thesis/pmgan/PorousMediaGan/data/individual_images/berea/original/raw/tiff/200/'\u001b[0m\u001b[1;33m\u001b[0m\u001b[0m\n\u001b[0;32m----> 4\u001b[0;31m \u001b[0mx\u001b[0m \u001b[1;33m=\u001b[0m \u001b[1;33m[\u001b[0m\u001b[0mf\u001b[0m \u001b[1;32mfor\u001b[0m \u001b[0mf\u001b[0m \u001b[1;32min\u001b[0m \u001b[0mos\u001b[0m\u001b[1;33m.\u001b[0m\u001b[0mlistdir\u001b[0m\u001b[1;33m(\u001b[0m\u001b[0mdirec\u001b[0m\u001b[1;33m)\u001b[0m\u001b[1;33m]\u001b[0m\u001b[1;33m\u001b[0m\u001b[0m\n\u001b[0m",
      "\u001b[0;31mWindowsError\u001b[0m: [Error 3] The system cannot find the path specified: 'E:/PhD_Thesis/pmgan/PorousMediaGan/data/individual_images/berea/original/raw/tiff/200/*.*'"
     ]
    }
   ],
   "source": [
    "import os\n",
    "#direc = 'E:/PhD_Thesis/pmgan/PorousMediaGan/data/individual_images/ketton/original/postprocessed/128/raw/'\n",
    "direc = 'E:/PhD_Thesis/pmgan/PorousMediaGan/data/individual_images/berea/sampled/postprocessed/raw_upscaling/wgan_200/'\n",
    "x = [f for f in os.listdir(direc)]"
   ]
  },
  {
   "cell_type": "code",
   "execution_count": 11,
   "metadata": {
    "collapsed": false
   },
   "outputs": [
    {
     "name": "stdout",
     "output_type": "stream",
     "text": [
      "['berea_sub_200_0.tiff', 'berea_sub_200_1.tiff', 'berea_sub_200_2.tiff', 'berea_sub_200_3.tiff', 'berea_sub_200_4.tiff', 'berea_sub_200_5.tiff', 'berea_sub_200_6.tiff', 'berea_sub_200_7.tiff']\n"
     ]
    }
   ],
   "source": [
    "print x"
   ]
  },
  {
   "cell_type": "code",
   "execution_count": 12,
   "metadata": {
    "collapsed": false
   },
   "outputs": [
    {
     "name": "stdout",
     "output_type": "stream",
     "text": [
      "0.19624925\n",
      "0.205228875\n",
      "0.192179375\n",
      "0.197490625\n",
      "0.209173375\n",
      "0.19953175\n",
      "0.209736875\n",
      "0.19118875\n"
     ]
    }
   ],
   "source": [
    "for image in x:\n",
    "    im = tifffile.imread(direc+image)\n",
    "    porc = Counter(im.flatten())\n",
    "    por = porc[0]/float(porc[0]+porc[1])\n",
    "    print por"
   ]
  },
  {
   "cell_type": "code",
   "execution_count": 61,
   "metadata": {
    "collapsed": false
   },
   "outputs": [
    {
     "data": {
      "text/plain": [
       "91"
      ]
     },
     "execution_count": 61,
     "metadata": {},
     "output_type": "execute_result"
    }
   ],
   "source": [
    "550*10/60"
   ]
  },
  {
   "cell_type": "code",
   "execution_count": null,
   "metadata": {
    "collapsed": true
   },
   "outputs": [],
   "source": []
  }
 ],
 "metadata": {
  "anaconda-cloud": {},
  "kernelspec": {
   "display_name": "Python 2",
   "language": "python",
   "name": "python2"
  },
  "language_info": {
   "codemirror_mode": {
    "name": "ipython",
    "version": 2
   },
   "file_extension": ".py",
   "mimetype": "text/x-python",
   "name": "python",
   "nbconvert_exporter": "python",
   "pygments_lexer": "ipython2",
   "version": "2.7.11"
  }
 },
 "nbformat": 4,
 "nbformat_minor": 1
}
